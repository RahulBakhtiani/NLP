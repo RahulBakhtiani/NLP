{
  "nbformat": 4,
  "nbformat_minor": 0,
  "metadata": {
    "colab": {
      "name": "RahulNLPPractical 12.ipynb",
      "provenance": []
    },
    "kernelspec": {
      "name": "python3",
      "display_name": "Python 3"
    },
    "language_info": {
      "name": "python"
    }
  },
  "cells": [
    {
      "cell_type": "code",
      "execution_count": 6,
      "metadata": {
        "id": "GJkzreeeWKG6"
      },
      "outputs": [],
      "source": [
        "import nltk\n",
        "sentence = [(\"the\", \"DT\"), (\"little\", \"JJ\"), (\"yellow\", \"JJ\"), \n",
        "(\"dog\", \"NN\"), (\"barked\", \"VBD\"), (\"at\", \"IN\"),  (\"the\", \"DT\"), (\"cat\", \"NN\")]\n"
      ]
    },
    {
      "cell_type": "code",
      "source": [
        "grammar = \"NP: {<DT>?<JJ>*<NN>}\" "
      ],
      "metadata": {
        "id": "bb0AsZwtWmg9"
      },
      "execution_count": 7,
      "outputs": []
    },
    {
      "cell_type": "code",
      "source": [
        "cp = nltk.RegexpParser(grammar) \n",
        "result = cp.parse(sentence) \n",
        "print(result)"
      ],
      "metadata": {
        "colab": {
          "base_uri": "https://localhost:8080/"
        },
        "id": "ZzdvvvkGWrM9",
        "outputId": "45fafb24-fc29-4a9c-8fac-496861a6c442"
      },
      "execution_count": 8,
      "outputs": [
        {
          "output_type": "stream",
          "name": "stdout",
          "text": [
            "(S\n",
            "  (NP the/DT little/JJ yellow/JJ dog/NN)\n",
            "  barked/VBD\n",
            "  at/IN\n",
            "  (NP the/DT cat/NN))\n"
          ]
        }
      ]
    },
    {
      "cell_type": "code",
      "source": [
        "#Word2Vec\n",
        "import gensim\n",
        "from gensim.models import Word2Vec\n"
      ],
      "metadata": {
        "id": "hOX4TVA2W20l"
      },
      "execution_count": 9,
      "outputs": []
    },
    {
      "cell_type": "code",
      "source": [
        "# define training data\n",
        "sentences = [['this', 'is', 'the', 'first', 'sentence', 'for', 'word2vec'],\n",
        "\t\t\t['this', 'is', 'the', 'second', 'sentence'],\n",
        "\t\t\t['yet', 'another', 'sentence'],\n",
        "\t\t\t['one', 'more', 'sentence'],\n",
        "\t\t\t['and', 'the', 'final', 'sentence']]"
      ],
      "metadata": {
        "id": "I_4xm7kuW7Pa"
      },
      "execution_count": 10,
      "outputs": []
    },
    {
      "cell_type": "code",
      "source": [
        "# train model\n",
        "model = Word2Vec(sentences, min_count=1)"
      ],
      "metadata": {
        "id": "mWz5t4x8W-Jv"
      },
      "execution_count": 11,
      "outputs": []
    },
    {
      "cell_type": "code",
      "source": [
        "#print summary\n",
        "print(model)"
      ],
      "metadata": {
        "colab": {
          "base_uri": "https://localhost:8080/"
        },
        "id": "Oo3orAwiXAfG",
        "outputId": "7b680234-44f7-4d4e-e1c2-e82dd152e054"
      },
      "execution_count": 12,
      "outputs": [
        {
          "output_type": "stream",
          "name": "stdout",
          "text": [
            "Word2Vec(vocab=14, size=100, alpha=0.025)\n"
          ]
        }
      ]
    },
    {
      "cell_type": "code",
      "source": [
        "# summarize vocabulary\n",
        "words = list(model.wv.vocab)\n",
        "print(words)\n"
      ],
      "metadata": {
        "colab": {
          "base_uri": "https://localhost:8080/"
        },
        "id": "RCEBUnXcXDxE",
        "outputId": "78819a33-9b48-4b59-d0ea-baeed0bbc901"
      },
      "execution_count": 13,
      "outputs": [
        {
          "output_type": "stream",
          "name": "stdout",
          "text": [
            "['this', 'is', 'the', 'first', 'sentence', 'for', 'word2vec', 'second', 'yet', 'another', 'one', 'more', 'and', 'final']\n"
          ]
        }
      ]
    },
    {
      "cell_type": "code",
      "source": [
        "print(model['first'])"
      ],
      "metadata": {
        "colab": {
          "base_uri": "https://localhost:8080/"
        },
        "id": "GlWntcGTXGj1",
        "outputId": "f857e41a-7c38-411f-a5e3-dc7a8ff88b96"
      },
      "execution_count": 14,
      "outputs": [
        {
          "output_type": "stream",
          "name": "stdout",
          "text": [
            "[ 9.1934967e-04 -2.4628625e-03 -1.4140751e-03  3.1591980e-03\n",
            " -5.7007140e-04 -5.9688988e-04 -2.5660361e-04 -2.9417449e-03\n",
            " -1.2535623e-03  3.5002131e-03  2.3902243e-03 -2.0788331e-03\n",
            " -1.1069095e-03 -4.8357802e-03  4.7574523e-03  3.3066242e-03\n",
            "  4.0552891e-03 -1.3660500e-03  4.1986895e-03  4.2414945e-03\n",
            " -7.7213926e-06 -3.4980369e-03  2.7681879e-05  1.2938649e-03\n",
            "  3.6542558e-03 -8.3767911e-05 -2.2824553e-03  1.3657004e-03\n",
            "  1.3558380e-03 -3.3155994e-03 -4.3329266e-03 -2.7295852e-03\n",
            " -2.0965129e-04  9.7981025e-04  2.3739296e-03  5.6342268e-04\n",
            "  2.2891338e-03 -2.9157102e-03 -3.8076448e-03  2.2016696e-03\n",
            "  9.5938327e-04 -4.5211497e-03 -1.8700492e-03 -3.2174034e-04\n",
            "  3.7607509e-03 -1.3889379e-03  2.8638169e-03 -2.4787681e-03\n",
            " -2.0047079e-03  4.9711023e-03  2.0871134e-03  4.3937773e-03\n",
            " -1.8444355e-03 -2.0029461e-03  3.5445318e-03 -4.7195056e-03\n",
            " -1.8795625e-05 -3.4640569e-03 -2.7519805e-04 -1.6284112e-03\n",
            " -2.6070948e-03  7.6736411e-04 -3.7584724e-03  4.3952991e-03\n",
            "  1.0724247e-03 -4.7887904e-03 -1.8487213e-03  1.2259800e-03\n",
            "  2.0540803e-04 -2.6305418e-03 -4.6858191e-03  6.0752110e-04\n",
            " -6.0660430e-05  3.7291464e-03 -5.9226918e-04  4.4037919e-03\n",
            " -2.6688962e-03  4.8582302e-03 -1.9782314e-03  2.7053203e-03\n",
            " -2.1451786e-04  3.7914241e-04 -2.5368854e-03 -2.2935774e-03\n",
            " -2.4586141e-03 -3.2005815e-03 -1.5901556e-04  2.6679852e-03\n",
            "  1.4707268e-03  4.8097135e-03  2.0891316e-03 -3.6937851e-03\n",
            "  3.4156679e-03  2.3867968e-03 -3.6995353e-03  1.4897715e-03\n",
            "  4.9737440e-03 -2.1555165e-03 -1.4666381e-03  1.8363451e-03]\n"
          ]
        },
        {
          "output_type": "stream",
          "name": "stderr",
          "text": [
            "/usr/local/lib/python3.7/dist-packages/ipykernel_launcher.py:1: DeprecationWarning: Call to deprecated `__getitem__` (Method will be removed in 4.0.0, use self.wv.__getitem__() instead).\n",
            "  \"\"\"Entry point for launching an IPython kernel.\n"
          ]
        }
      ]
    },
    {
      "cell_type": "code",
      "source": [
        "# save model\n",
        "model.save('model.bin')"
      ],
      "metadata": {
        "id": "C13-qLjpXJwg"
      },
      "execution_count": 15,
      "outputs": []
    },
    {
      "cell_type": "code",
      "source": [
        "# load model\n",
        "new_model = Word2Vec.load('model.bin')\n",
        "print(new_model)"
      ],
      "metadata": {
        "colab": {
          "base_uri": "https://localhost:8080/"
        },
        "id": "U1cxnYGRXMPN",
        "outputId": "ab2c5093-7858-4e98-d68c-675dd46a9b98"
      },
      "execution_count": 16,
      "outputs": [
        {
          "output_type": "stream",
          "name": "stdout",
          "text": [
            "Word2Vec(vocab=14, size=100, alpha=0.025)\n"
          ]
        }
      ]
    },
    {
      "cell_type": "code",
      "source": [
        "from sklearn.decomposition import PCA\n",
        "from matplotlib import pyplot\n"
      ],
      "metadata": {
        "id": "ADhPH9nFXQh-"
      },
      "execution_count": 17,
      "outputs": []
    },
    {
      "cell_type": "code",
      "source": [
        "# fit a 2d PCA model to the vectors\n",
        "X = model[model.wv.vocab]\n",
        "pca = PCA(n_components=2)\n",
        "result = pca.fit_transform(X)\n"
      ],
      "metadata": {
        "colab": {
          "base_uri": "https://localhost:8080/"
        },
        "id": "HRiUDYVpXTNl",
        "outputId": "823fae94-d27a-44d5-de20-be1585ec6d05"
      },
      "execution_count": 18,
      "outputs": [
        {
          "output_type": "stream",
          "name": "stderr",
          "text": [
            "/usr/local/lib/python3.7/dist-packages/ipykernel_launcher.py:2: DeprecationWarning: Call to deprecated `__getitem__` (Method will be removed in 4.0.0, use self.wv.__getitem__() instead).\n",
            "  \n"
          ]
        }
      ]
    },
    {
      "cell_type": "code",
      "source": [
        "# create a scatter plot of the projection\n",
        "pyplot.scatter(result[:, 0], result[:, 1])\n",
        "words = list(model.wv.vocab)\n",
        "for i, word in enumerate(words):\n",
        "\tpyplot.annotate(word, xy=(result[i, 0], result[i, 1]))\n",
        "pyplot.show()\n"
      ],
      "metadata": {
        "colab": {
          "base_uri": "https://localhost:8080/",
          "height": 268
        },
        "id": "wSMZ15xzXVp2",
        "outputId": "c2b6e15e-9c93-43ed-d714-b97b06caa2c3"
      },
      "execution_count": 19,
      "outputs": [
        {
          "output_type": "display_data",
          "data": {
            "text/plain": [
              "<Figure size 432x288 with 1 Axes>"
            ],
            "image/png": "[encoded data removed]"
          },
          "metadata": {
            "needs_background": "light"
          }
        }
      ]
    }
  ]
}