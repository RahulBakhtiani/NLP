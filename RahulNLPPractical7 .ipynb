{
 "cells": [
  {
   "cell_type": "code",
   "execution_count": null,
   "id": "ae8647e5",
   "metadata": {},
   "outputs": [],
   "source": [
    "import nltk\n",
    "from nltk import tokenize\n",
    "grammar1 = nltk.CFG.fromstring(\"\"\"\n",
    "S -> VP\n",
    " VP -> VP NP\n",
    " NP -> Det NP\n",
    " Det -> 'that'\n",
    " NP -> singular Noun\n",
    " NP -> 'flight'\n",
    " VP -> 'Book' \n",
    "\"\"\")\n",
    "sentence = \"Book that flight\"\n",
    "for index in range(len(sentence)):\n",
    "    all_tokens = tokenize.word_tokenize(sentence)\n",
    "print(all_tokens)\n",
    "parser = nltk.ChartParser(grammar1)\n",
    "for tree in parser.parse(all_tokens):\n",
    "    print(tree)\n",
    "    tree.draw()\n",
    "\n"
   ]
  },
  {
   "cell_type": "code",
   "execution_count": null,
   "id": "693ef4b0",
   "metadata": {},
   "outputs": [],
   "source": []
  }
 ],
 "metadata": {
  "kernelspec": {
   "display_name": "Python 3 (ipykernel)",
   "language": "python",
   "name": "python3"
  }
 },
 "nbformat": 4,
 "nbformat_minor": 5
}
